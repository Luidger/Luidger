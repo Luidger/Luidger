{
  "nbformat": 4,
  "nbformat_minor": 0,
  "metadata": {
    "colab": {
      "provenance": [],
      "authorship_tag": "ABX9TyPdFQbPN7MwkKiHErPlWOvy",
      "include_colab_link": true
    },
    "kernelspec": {
      "name": "python3",
      "display_name": "Python 3"
    },
    "language_info": {
      "name": "python"
    }
  },
  "cells": [
    {
      "cell_type": "markdown",
      "metadata": {
        "id": "view-in-github",
        "colab_type": "text"
      },
      "source": [
        "<a href=\"https://colab.research.google.com/github/Luidger/Luidger/blob/main/Super_Trunfo_Python_c.ipynb\" target=\"_parent\"><img src=\"https://colab.research.google.com/assets/colab-badge.svg\" alt=\"Open In Colab\"/></a>"
      ]
    },
    {
      "cell_type": "code",
      "source": [
        "NUM_ESTADOS = 8\n",
        "CIDADE_POR_ESTADO = 4\n",
        "\n",
        "class Cidade:\n",
        "    def __init__(self):\n",
        "        self.codigo = 0\n",
        "        self.nome = \"\"\n",
        "        self.populacao = 0  # Agora é unsigned long\n",
        "        self.area = 0.0\n",
        "        self.pib = 0.0\n",
        "        self.pontos_turisticos = 0\n",
        "        self.pib_per_capita = 0.0\n",
        "        self.densidade_demo = 0.0\n",
        "        self.super_poder = 0.0  # Novo campo\n",
        "\n",
        "class Estado:\n",
        "    def __init__(self):\n",
        "        self.nome = \"\"\n",
        "        self.cidades = [Cidade() for _ in range(CIDADE_POR_ESTADO)]\n",
        "\n",
        "def calcular_pib_per_capita(pib, populacao):\n",
        "    return 0 if populacao == 0 else pib / populacao\n",
        "\n",
        "def calcular_densidade(populacao, area):\n",
        "    return 0 if area == 0 else populacao / area\n",
        "\n",
        "def main():\n",
        "    estados = [Estado() for _ in range(NUM_ESTADOS)]\n",
        "\n",
        "    print(\"=== CADASTRO DO SUPER TRUNFO DE CIDADES ===\")\n",
        "\n",
        "    # Cadastro Estado 0 (exemplo)\n",
        "    print(\"\\n--- Cadastro do Estado 1 de 8 ---\")\n",
        "    estados[0].nome = input(\"Nome do estado: \")\n",
        "\n",
        "    # Cadastro Cidade 0 (Estado 0)\n",
        "    print(\"\\n  Cadastro da Cidade 1 de 4\")\n",
        "    estados[0].cidades[0].codigo = int(input(\"  Código: \"))\n",
        "    estados[0].cidades[0].nome = input(\"  Nome: \")\n",
        "    estados[0].cidades[0].populacao = int(input(\"  População: \"))\n",
        "    estados[0].cidades[0].area = float(input(\"  Área (km²): \"))\n",
        "    estados[0].cidades[0].pib = float(input(\"  PIB: \"))\n",
        "    estados[0].cidades[0].pontos_turisticos = int(input(\"  Pontos Turísticos: \"))\n",
        "\n",
        "    # Cálculos\n",
        "    estados[0].cidades[0].pib_per_capita = calcular_pib_per_capita(\n",
        "        estados[0].cidades[0].pib,\n",
        "        estados[0].cidades[0].populacao\n",
        "    )\n",
        "\n",
        "    estados[0].cidades[0].densidade_demo = calcular_densidade(\n",
        "        estados[0].cidades[0].populacao,\n",
        "        estados[0].cidades[0].area\n",
        "    )\n",
        "\n",
        "    # Cálculo do Super Poder\n",
        "    estados[0].cidades[0].super_poder = (\n",
        "        estados[0].cidades[0].populacao +\n",
        "        estados[0].cidades[0].area +\n",
        "        estados[0].cidades[0].pib +\n",
        "        estados[0].cidades[0].pontos_turisticos +\n",
        "        estados[0].cidades[0].pib_per_capita +\n",
        "        (1.0 / estados[0].cidades[0].densidade_demo if estados[0].cidades[0].densidade_demo > 0 else 0)\n",
        "    )\n",
        "\n",
        "    # Selecionar duas cidades para comparar\n",
        "    carta1 = estados[0].cidades[0]\n",
        "    carta2 = estados[0].cidades[1]\n",
        "\n",
        "    # Comparação\n",
        "    print(\"\\n=== COMPARAÇÃO ===\")\n",
        "    print(f\"População: Carta {1 if carta1.populacao > carta2.populacao else 2} venceu ({int(carta1.populacao > carta2.populacao)})\")\n",
        "    print(f\"Área: Carta {1 if carta1.area > carta2.area else 2} venceu ({int(carta1.area > carta2.area)})\")\n",
        "    print(f\"PIB: Carta {1 if carta1.pib > carta2.pib else 2} venceu ({int(carta1.pib > carta2.pib)})\")\n",
        "    print(f\"Pontos Turísticos: Carta {1 if carta1.pontos_turisticos > carta2.pontos_turisticos else 2} venceu ({int(carta1.pontos_turisticos > carta2.pontos_turisticos)})\")\n",
        "    print(f\"Densidade: Carta {1 if carta1.densidade_demo < carta2.densidade_demo else 2} venceu ({int(carta1.densidade_demo < carta2.densidade_demo)})\")\n",
        "    print(f\"PIB per capita: Carta {1 if carta1.pib_per_capita > carta2.pib_per_capita else 2} venceu ({int(carta1.pib_per_capita > carta2.pib_per_capita)})\")\n",
        "    print(f\"Super Poder: Carta {1 if carta1.super_poder > carta2.super_poder else 2} venceu ({int(carta1.super_poder > carta2.super_poder)})\")\n",
        "\n",
        "if __name__ == \"__main__\":\n",
        "    main()"
      ],
      "metadata": {
        "colab": {
          "base_uri": "https://localhost:8080/"
        },
        "id": "gdep7soKXTmo",
        "outputId": "17bdab97-9f05-45fc-d742-5b18996d2035"
      },
      "execution_count": 2,
      "outputs": [
        {
          "output_type": "stream",
          "name": "stdout",
          "text": [
            "=== CADASTRO DO SUPER TRUNFO DE CIDADES ===\n",
            "\n",
            "--- Cadastro do Estado 1 de 8 ---\n",
            "Nome do estado: São paulo\n",
            "\n",
            "  Cadastro da Cidade 1 de 4\n",
            "  Código: 01\n",
            "  Nome: Itaquera\n",
            "  População: 185000\n",
            "  Área (km²): 3036\n",
            "  PIB: 157000000\n",
            "  Pontos Turísticos: 12\n",
            "\n",
            "=== COMPARAÇÃO ===\n",
            "População: Carta 1 venceu (1)\n",
            "Área: Carta 1 venceu (1)\n",
            "PIB: Carta 1 venceu (1)\n",
            "Pontos Turísticos: Carta 1 venceu (1)\n",
            "Densidade: Carta 2 venceu (0)\n",
            "PIB per capita: Carta 1 venceu (1)\n",
            "Super Poder: Carta 1 venceu (1)\n"
          ]
        }
      ]
    }
  ]
}